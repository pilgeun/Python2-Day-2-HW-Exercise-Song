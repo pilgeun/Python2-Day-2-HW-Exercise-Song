{
 "cells": [
  {
   "cell_type": "markdown",
   "metadata": {},
   "source": [
    "# OOP - Composition, Encapsulation, & Inheritance"
   ]
  },
  {
   "cell_type": "markdown",
   "metadata": {},
   "source": [
    "## Exercise 1: \n",
    "Create a Temperature Converter program using OOP by creating a Temperature class with two private attributes to store Fahrenheit and Celsius degrees. In the Temperature class, define methods that \n",
    "- sets the private attributes. When you set one unit of temperature, it should calculate and set the other unit of temperature. For example, when you set degrees in Fahrenheit, it should calculate and set in Celsius degrees. \n",
    "- gets the hidden attributes that round the number to 2 decimal places. \n",
    "\n",
    "The output should look something like following:\n",
    "\n",
    "    MENU\n",
    "    1. Fahrenheit to Celsius\n",
    "    2. Celsius to Fahrenheit\n",
    "    3. Quit\n",
    "    \n",
    "    Enter a menu option: 1\n",
    "    Enter degrees in Fahrenheit: 99\n",
    "    99.00 oF is 37.22 oC.\n",
    "    \n",
    "    Enter a menu option: 2\n",
    "    Enter degrees in Celsius: 37.22\n",
    "    37.22 oC is 99.00 oF.\n",
    "    \n",
    "    Enter a menu option: 3\n",
    "    Bye\n"
   ]
  },
  {
   "cell_type": "code",
   "execution_count": 201,
   "metadata": {},
   "outputs": [
    {
     "name": "stdout",
     "output_type": "stream",
     "text": [
      "\n",
      "MENU\n",
      "1. Fahrenheight to Celsius\n",
      "2. Celsius to Fahrenheit\n",
      "3. Quit\n",
      "\n",
      "Enter a menu option: 1\n",
      "Enter degrees in Fahrenheight: 99\n",
      "99.00 oF is 37.22 oC.\n",
      "\n",
      "Enter a menu option: 2\n",
      "Enter degrees in Celsius: 0\n",
      "0.00 oC is 32.00 oF.\n",
      "\n",
      "Enter a menu option: 3\n",
      "Bye\n"
     ]
    }
   ],
   "source": [
    "\n",
    "class Temperature :\n",
    "    \"\"\"Temperature class has fahrenheit and celsius attributes\"\"\"\n",
    "    def __init__(self, fahrenheight, celsius):\n",
    "        \"\"\"initialize fahrenheit and celsius attributes\"\"\"\n",
    "        self.__fahrenheit = fahrenheight\n",
    "        self.__celsius = celsius\n",
    "    \n",
    "    def f_to_c (self):\n",
    "        \"\"\"converts Fahrenheight to Celsius\"\"\"\n",
    "        self.__celsius = (self.__fahrenheit - 32) * 5/9\n",
    "        return f\"{self.__fahrenheit:.2f} oF is {self.__celsius:.2f} oC.\\n\"\n",
    "        \n",
    "    \n",
    "    def c_to_f (self):\n",
    "        \"\"\"converts Celsius to Fahrenheit\"\"\"\n",
    "        self.__fahrenheit = (self.__celsius * 9/5) + 32\n",
    "        return f\"{self.__celsius:.2f} oC is {self.__fahrenheit:.2f} oF.\\n\"\n",
    "\n",
    "\n",
    "print(\"\"\"\n",
    "MENU\n",
    "1. Fahrenheight to Celsius\n",
    "2. Celsius to Fahrenheit\n",
    "3. Quit\n",
    "\"\"\")\n",
    "\n",
    "while True:\n",
    "    menu_option = input(\"Enter a menu option: \")\n",
    "    \n",
    "    if menu_option == '1':\n",
    "        degrees = float(input(\"Enter degrees in Fahrenheight: \"))\n",
    "        temp = Temperature(degrees, 0)\n",
    "        print(temp.f_to_c())\n",
    "    \n",
    "    elif menu_option == '2':\n",
    "        degrees = float(input(\"Enter degrees in Celsius: \"))\n",
    "        temp = Temperature(0, degrees)\n",
    "        print(temp.c_to_f())\n",
    "        \n",
    "    elif menu_option == '3': \n",
    "        print(\"Bye\")\n",
    "        break\n",
    "    \n",
    "    else :\n",
    "        continue\n",
    "\n"
   ]
  },
  {
   "cell_type": "markdown",
   "metadata": {},
   "source": [
    "## Exercise 2: \n",
    "Create a <b>Privileges</b> class that has privileges, a private attribute. It can store a list of strings such as \"can add\", \"can delete\", and \"can modify\".  Write a method called show_privileges(). \n",
    "\n",
    "Create a class called <b>Admin</b> that inherits from the <b>Person</b> class (see next cell). Make a Privileges instance as an attribute in the Admin class. Create a new instance of Admin and use your method to show its privileges.\n"
   ]
  },
  {
   "cell_type": "code",
   "execution_count": 203,
   "metadata": {},
   "outputs": [
    {
     "name": "stdout",
     "output_type": "stream",
     "text": [
      "Name: John\n",
      "Age: Lawrence\n",
      "Gender: Male\n",
      "Privilege(s): ['can add', 'can delete', 'can modify', 'can drink']\n",
      "\n",
      "Name: Miguel\n",
      "Age: Diaz\n",
      "Gender: Male\n",
      "Privilege(s): ['none']\n",
      "\n"
     ]
    }
   ],
   "source": [
    "\n",
    "class Person :\n",
    "    \"\"\"Stores Person information\"\"\"\n",
    "    def __init__(self, name, age, gender) :\n",
    "        \"\"\"Initialize name, age and gender attributes\"\"\"\n",
    "        self.__name = name\n",
    "        self.__age = age\n",
    "        self.__gender = gender\n",
    "\n",
    "    def get_name(self) :\n",
    "        \"\"\"returns name of Person\"\"\"\n",
    "        return self.__name\n",
    "    \n",
    "    def get_info(self) :\n",
    "        \"\"\"returns information of Person\"\"\"\n",
    "        return f\"Name: {self.__name}\\nAge: {self.__age}\\nGender: {self.__gender}\"\n",
    "\n",
    "class Privileges :\n",
    "    \"\"\"Stores Privileges list\"\"\"\n",
    "    def __init__(self, privileges) : # privileges must be a list input\n",
    "        \"\"\"Intialize privileges attribute\"\"\"\n",
    "        self.__privileges = privileges\n",
    "        \n",
    "    def show_privileges(self) :\n",
    "        \"\"\"returns list of privileges\"\"\"\n",
    "        return f\"Privilege(s): {self.__privileges}\\n\"\n",
    "    \n",
    "class Admin(Person) :\n",
    "    \"\"\"Stores Person information and privileges\"\"\"\n",
    "    def __init__(self, name, age, gender, privileges) :\n",
    "        \"\"\"adds privileges attribute with to Person attributes\"\"\"\n",
    "        super().__init__(name, age, gender)\n",
    "        self.list = Privileges(privileges)\n",
    "        \n",
    "    #def get_info(self) : \n",
    "        \"\"\"tried to combine get_info() & show_privileges() wtihout repeating code, but got weird output result\"\"\"\n",
    "        #return super().get_info(), self.list.show_privileges()\n",
    "        \n",
    "        \n",
    "boss = Admin(\"John\", \"Lawrence\", \"Male\", [\"can add\", \"can delete\", \"can modify\", \"can drink\"])   \n",
    "intern = Admin(\"Miguel\", \"Diaz\", 'Male', [\"none\"])\n",
    "\n",
    "print(boss.get_info())\n",
    "print(boss.list.show_privileges())\n",
    "print(intern.get_info())\n",
    "print(intern.list.show_privileges())\n"
   ]
  },
  {
   "cell_type": "code",
   "execution_count": 185,
   "metadata": {},
   "outputs": [
    {
     "name": "stdout",
     "output_type": "stream",
     "text": [
      "('Name: John\\nAge: Kreese\\nGender: Male', \"Privilege(s): ['can add', 'can delete', 'can modify']\\n\")\n"
     ]
    }
   ],
   "source": [
    "class testAdmin(Person) :\n",
    "    def __init__(self, name, age, gender, privileges) :\n",
    "        super().__init__(name, age, gender)\n",
    "        self.list = Privileges(privileges)\n",
    "        \n",
    "    def all_info(self) : \n",
    "        \"\"\"tried to combine get_info() & show_privileges() wtihout repeating code, but got weird output result\"\"\"\n",
    "        return super().get_info(), self.list.show_privileges()\n",
    "\n",
    "test_boss = testAdmin(\"John\", \"Kreese\", \"Male\", [\"can add\", \"can delete\", \"can modify\"])    \n",
    "print(test_boss.all_info())"
   ]
  },
  {
   "cell_type": "markdown",
   "metadata": {},
   "source": [
    "## Exercise 3:\n",
    "1. Use the Product class from next cell\n",
    "2. Add get_description() method to Product class\n",
    "3. Create Book class inherited from the Product class. Add author attribute to the Book class and make modification to get_description() method\n",
    "4. Create Movie class inherited from the Product class. Add year attributes. Add/modify necessary methods"
   ]
  },
  {
   "cell_type": "code",
   "execution_count": 193,
   "metadata": {},
   "outputs": [],
   "source": [
    "# From Day 1 Class Demo\n",
    "class Product : \n",
    "    \"\"\"A simple attempt to model a product.\"\"\"\n",
    "    \n",
    "    def __init__(self, name, price, discount_rate) :\n",
    "        \"\"\"Initialize name, price, and discount_rate attributes\"\"\"\n",
    "        self.name = name\n",
    "        self.price = price\n",
    "        self.discount_rate = discount_rate\n",
    "        \n",
    "        \n",
    "    def get_description(self) :\n",
    "        \"\"\"A helpful guide to the name of product\"\"\"\n",
    "        return f\"It's a {self.name}. Additional info N/A\"\n",
    "        \n",
    "        \n",
    "    def get_discount_amount(self) :\n",
    "        \"\"\"Computes a discount calculation\"\"\"\n",
    "        return self.price * self.discount_rate / 100\n",
    "    \n",
    "        \n",
    "    def get_info(self) :\n",
    "        return(f\"Name: {self.name}\\n\" + \n",
    "                f\"Price: {self.price}\\n\" +\n",
    "                f\"Disicount Amount: ${self.get_discount_amount():,.2f}\\n\" +\n",
    "                f\"Discounted Price: ${self.get_sale_price():,.2f}\")\n",
    "    \n",
    "    def get_sale_price(self) :\n",
    "        \"\"\"Calls another method to find a sale price\"\"\"\n",
    "        return self.price - self.get_discount_amount()\n",
    "        \n",
    "\n",
    "class Book(Product):\n",
    "    \"\"\"Book Product information\"\"\"\n",
    "    def __init__(self, name, price, discount_rate, author) :\n",
    "        \"\"\"Initialize name, price, discount_rate, and author attributes\"\"\"\n",
    "        super().__init__(name, price, discount_rate)\n",
    "        self.author = author\n",
    "    \n",
    "    def get_description(self) :\n",
    "        \"\"\"Book written by author\"\"\"\n",
    "        return f\"{self.name} written by {self.author}.\"\n",
    "    \n",
    "    \n",
    "class Movie(Product):\n",
    "    \"\"\"Movie Product information\"\"\"\n",
    "    def __init__(self, name, price, discount_rate, year) :\n",
    "        \"\"\"Initialize name, price, discount_rate, and year attributes\"\"\"\n",
    "        super().__init__(name, price, discount_rate)\n",
    "        self.year = year\n",
    "    \n",
    "    def get_description(self) :\n",
    "        \"\"\"Movie and year of release\"\"\"\n",
    "        return f\"{self.name} was released in {self.year}.\"\n",
    "            \n",
    "        "
   ]
  },
  {
   "cell_type": "code",
   "execution_count": 199,
   "metadata": {},
   "outputs": [
    {
     "name": "stdout",
     "output_type": "stream",
     "text": [
      "It's a Paper. Additional info N/A\n",
      "Name: Paper\n",
      "Price: 5.99\n",
      "Disicount Amount: $0.01\n",
      "Discounted Price: $5.98\n",
      "\n",
      "Dune written by Frank Herbert.\n",
      "Name: Dune\n",
      "Price: 8.49\n",
      "Disicount Amount: $0.06\n",
      "Discounted Price: $8.43\n",
      "\n",
      "The Matrix was released in 1999.\n",
      "Name: The Matrix\n",
      "Price: 0.99\n",
      "Disicount Amount: $0.00\n",
      "Discounted Price: $0.99\n",
      "\n"
     ]
    }
   ],
   "source": [
    "generic_paper = Product(\"Paper\", 5.99, 0.1)\n",
    "book_dune = Book(\"Dune\", 8.49, 0.75, \"Frank Herbert\")\n",
    "movie_matrix = Movie(\"The Matrix\", 0.99, 0.0, 1999)\n",
    "\n",
    "print(generic_paper.get_description())\n",
    "print(generic_paper.get_info())\n",
    "print()\n",
    "\n",
    "print(book_dune.get_description())\n",
    "print(book_dune.get_info())\n",
    "print()\n",
    "\n",
    "print(movie_matrix.get_description())\n",
    "print(movie_matrix.get_info())\n",
    "print()"
   ]
  },
  {
   "cell_type": "markdown",
   "metadata": {},
   "source": [
    "## Exercise 4\n",
    "Create a <b>MyDate</b> class with month, day, year, hour, minute, and second <b>private attributes</b>.  Create an initialization method that takes a string in the format of \"mm-dd-yyyy hh:mm:ss\". Also create necessary public methods as needed.  \n",
    "\n",
    "Then, run below program to show your class works:\n",
    "\n",
    "    today = MyDate(\"10-10-2020 12:11:22\")\n",
    "    print(today.get_datetime())\n",
    "    today.set_datetime(\"11-31-1999 02:33:22\")\n",
    "    print(today.get_datetime())\n",
    "    print(today.get_datetime(month_first=False))"
   ]
  },
  {
   "cell_type": "code",
   "execution_count": 50,
   "metadata": {},
   "outputs": [],
   "source": [
    "class MyDate():\n",
    "    \"\"\"date (mm-dd-yyyy) and time (hh:mm:ss)\"\"\"\n",
    "    def __init__(self, datetime) :\n",
    "        \"\"\"initialize month, day, year, hour, minute and seconds private attributes, and datetime attribute\"\"\"\n",
    "        self.__month = 0\n",
    "        self.__day = 0\n",
    "        self.__year = 0\n",
    "        self.__hour = 0\n",
    "        self.__minute = 0\n",
    "        self.__seconds = 0\n",
    "        self.datetime = datetime\n",
    "        \n",
    "    def get_datetime(self, month_first=True) :\n",
    "        \"\"\"returns date and time\"\"\"\n",
    "        if month_first == False :\n",
    "            return \"Date format should be mm-dd-yyyy\"\n",
    "        else :\n",
    "            return self.datetime        \n",
    "        \n",
    "    def set_datetime(self, new_datetime) :\n",
    "        \"\"\"changes date and time\"\"\"\n",
    "        self.datetime = new_datetime\n",
    "        return self.datetime\n",
    "   \n",
    "    "
   ]
  },
  {
   "cell_type": "code",
   "execution_count": 51,
   "metadata": {},
   "outputs": [
    {
     "name": "stdout",
     "output_type": "stream",
     "text": [
      "10-10-2020 12:11:22\n",
      "11-31-1999 02:33:22\n",
      "Date format should be mm-dd-yyyy\n"
     ]
    }
   ],
   "source": [
    "# main program\n",
    "today = MyDate(\"10-10-2020 12:11:22\")\n",
    "print(today.get_datetime()) #return string\n",
    "today.set_datetime(\"11-31-1999 02:33:22\")\n",
    "print(today.get_datetime())\n",
    "print(today.get_datetime(month_first=False))"
   ]
  },
  {
   "cell_type": "markdown",
   "metadata": {},
   "source": [
    "## Challenge\n",
    "\n",
    "Modify <b>MyDate</b> class: \n",
    "\n",
    "    - to validate date & time (for month, days, hour, minute, and second). \n",
    "    - to add days\n",
    "    - to add hours"
   ]
  },
  {
   "cell_type": "code",
   "execution_count": 52,
   "metadata": {},
   "outputs": [
    {
     "name": "stdout",
     "output_type": "stream",
     "text": [
      "10-10-2020 12:11:22\n",
      "10 10 2020 12 11 22\n",
      "['10', '10', '2020', '12', '11', '22']\n"
     ]
    }
   ],
   "source": [
    "# so people can't put in impossible dates like Feb 30, or month 13\n",
    "date = \"10-10-2020 12:11:22\"\n",
    "\n",
    "new_date = date.replace('-', \" \")\n",
    "new_date = new_date.replace(':', \" \")\n",
    "    \n",
    "list_date = new_date.split()\n",
    "print(date)\n",
    "print(new_date)\n",
    "print(list_date)"
   ]
  },
  {
   "cell_type": "code",
   "execution_count": null,
   "metadata": {},
   "outputs": [],
   "source": []
  }
 ],
 "metadata": {
  "kernelspec": {
   "display_name": "Python 3",
   "language": "python",
   "name": "python3"
  },
  "language_info": {
   "codemirror_mode": {
    "name": "ipython",
    "version": 3
   },
   "file_extension": ".py",
   "mimetype": "text/x-python",
   "name": "python",
   "nbconvert_exporter": "python",
   "pygments_lexer": "ipython3",
   "version": "3.8.3"
  }
 },
 "nbformat": 4,
 "nbformat_minor": 4
}
